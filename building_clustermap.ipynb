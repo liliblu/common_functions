{
 "cells": [
  {
   "cell_type": "code",
   "execution_count": 63,
   "metadata": {},
   "outputs": [],
   "source": [
    "import pandas as pd\n",
    "import numpy as np\n",
    "import matplotlib as mpl\n",
    "import matplotlib.pyplot as plt\n",
    "import seaborn as sns\n",
    "from scipy.cluster import hierarchy\n",
    "from scipy.spatial.distance import pdist"
   ]
  },
  {
   "cell_type": "code",
   "execution_count": 74,
   "metadata": {},
   "outputs": [],
   "source": [
    "def computeOrder(df, \n",
    "                 optimal=True,\n",
    "                 dist_method=\"euclidean\", \n",
    "                 cluster_method=\"average\"):\n",
    "    \n",
    "    dist_mat = pdist(df, metric=dist_method)\n",
    "    link_mat = hierarchy.linkage(dist_mat, method=cluster_method)\n",
    "\n",
    "    if optimal==True:\n",
    "        return hierarchy.leaves_list(hierarchy.optimal_leaf_ordering(link_mat, dist_mat))\n",
    "    else:\n",
    "        return hierarchy.leaves_list(link_mat)\n",
    "\n",
    "def clustermap(df, \n",
    "               dist_method=\"euclidean\", \n",
    "               cluster_method=\"average\", \n",
    "               col_cluster=True, \n",
    "               row_cluster=True,\n",
    "               optimal=True,\n",
    "               **heatmap_kws):\n",
    "    \n",
    "    if col_cluster==True:\n",
    "        col_order = computeOrder(df, optimal, dist_method, cluster_method)\n",
    "    else:\n",
    "        col_order = df.columns\n",
    "    \n",
    "    if row_cluster==True:\n",
    "        row_order = computeOrder(df.transpose(), optimal, dist_method, cluster_method)\n",
    "    else:\n",
    "        row_order = df.index\n",
    "    \n",
    "    df = df.reindex(col_order, axis=1).reindex(row_order, axis=0)\n",
    "    \n",
    "    ax = sns.heatmap(df, **heatmap_kws)\n",
    "    \n",
    "    return ax, df"
   ]
  },
  {
   "cell_type": "code",
   "execution_count": 89,
   "metadata": {},
   "outputs": [],
   "source": [
    "df = pd.read_csv('../cptac/brca-prospective/data/raw_data/phospho_df.tsv', sep='\\t')"
   ]
  },
  {
   "cell_type": "code",
   "execution_count": 90,
   "metadata": {},
   "outputs": [],
   "source": [
    "df['index'] = df['id'] + '-' + df['phosSite']\n",
    "df = df.drop_duplicates('index', keep='first')"
   ]
  },
  {
   "cell_type": "code",
   "execution_count": 91,
   "metadata": {},
   "outputs": [],
   "source": [
    "df = df.set_index('index')"
   ]
  },
  {
   "cell_type": "code",
   "execution_count": 92,
   "metadata": {},
   "outputs": [],
   "source": [
    "samples = [x for x in df.columns if x.isupper() and '.' not in x]\n",
    "df = df[samples].dropna(how='any', axis=0)"
   ]
  },
  {
   "cell_type": "code",
   "execution_count": 93,
   "metadata": {},
   "outputs": [],
   "source": [
    "cmap = sns.diverging_palette(220, 10, as_cmap=True)\n",
    "cmap.set_bad('#BDBDBD')\n",
    "cmap.set_over('#9E031A')\n",
    "cmap.set_under('#0C4A60')\n"
   ]
  },
  {
   "cell_type": "code",
   "execution_count": null,
   "metadata": {},
   "outputs": [],
   "source": [
    "kwargs = dict(vmin=-1, vmax=1, cmap=cmap)\n",
    "ax, temp = clustermap(df, **kwargs)"
   ]
  },
  {
   "cell_type": "code",
   "execution_count": null,
   "metadata": {},
   "outputs": [],
   "source": []
  }
 ],
 "metadata": {
  "kernelspec": {
   "display_name": "Python 3",
   "language": "python",
   "name": "python3"
  },
  "language_info": {
   "codemirror_mode": {
    "name": "ipython",
    "version": 3
   },
   "file_extension": ".py",
   "mimetype": "text/x-python",
   "name": "python",
   "nbconvert_exporter": "python",
   "pygments_lexer": "ipython3",
   "version": "3.5.6"
  }
 },
 "nbformat": 4,
 "nbformat_minor": 2
}
